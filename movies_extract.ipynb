version https://git-lfs.github.com/spec/v1
oid sha256:05a6050ce917c95ec84d24df6e0b8745ca20a5ec942ed8b82986bae51d997bf1
size 223264
