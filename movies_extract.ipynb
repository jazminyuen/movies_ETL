version https://git-lfs.github.com/spec/v1
oid sha256:edd441e7c37927ef75ffe78f799e516c69b82cb6f7120798b05ca5bf27c0052a
size 67735
